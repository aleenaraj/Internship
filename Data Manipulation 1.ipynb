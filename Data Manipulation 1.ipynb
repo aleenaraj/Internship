{
 "cells": [
  {
   "cell_type": "markdown",
   "metadata": {},
   "source": [
    "# Problem set:\n",
    "## Based on the species survey dataset that has been shared. Try running for the desired outputs to the questions listed below:\n",
    "\n",
    "- Generate list of all species and their corresponding taxa with value count, with hindfootlength >= 55\n",
    "** (hint- use groupby **)\n",
    "\n",
    "- List of all genuses of organisms/specimens recorded on ** 2002 newyears eve **\n",
    "** (hint: create a column \"date_recorded\" by combining enteries in  month, day and year **)\n",
    "\n",
    "- Species with least hindfoot length\n",
    "\n",
    "- Disregarding the missed values approximately how many female specimens belonging to the rodent taxa was recorded\n",
    "\n",
    "- Generate a simple plot that illustrates the count of all the rodents recorded over the year\n"
   ]
  },
  {
   "cell_type": "markdown",
   "metadata": {},
   "source": [
    "- winter season- from dec1 to feb 28\n",
    "- summer season- june 1 to August 31\n",
    "- spring season- March 1 to May 31\n",
    "- fall season  -  September 1 to November 30;\n",
    "\n",
    "- During winter season organisms of which taxa was recorded the most and among the organism of that taxa, which species was recorded the highest. (** hint: groupby, and find the value_count and plot a bar graph on top of the groupby dataframe.**)\n",
    "\n"
   ]
  }
 ],
 "metadata": {
  "kernelspec": {
   "display_name": "Python 2",
   "language": "python",
   "name": "python2"
  },
  "language_info": {
   "codemirror_mode": {
    "name": "ipython",
    "version": 2
   },
   "file_extension": ".py",
   "mimetype": "text/x-python",
   "name": "python",
   "nbconvert_exporter": "python",
   "pygments_lexer": "ipython2",
   "version": "2.7.12"
  }
 },
 "nbformat": 4,
 "nbformat_minor": 2
}

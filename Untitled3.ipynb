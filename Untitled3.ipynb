{
 "cells": [
  {
   "cell_type": "code",
   "execution_count": 18,
   "metadata": {},
   "outputs": [
    {
     "data": {
      "text/plain": [
       "2        NaN\n",
       "6        NaN\n",
       "8        NaN\n",
       "9        NaN\n",
       "10       NaN\n",
       "14       NaN\n",
       "15       NaN\n",
       "16       NaN\n",
       "19       NaN\n",
       "20       NaN\n",
       "21       NaN\n",
       "29       NaN\n",
       "30       NaN\n",
       "31       NaN\n",
       "32       NaN\n",
       "34       NaN\n",
       "35       NaN\n",
       "36       NaN\n",
       "38       NaN\n",
       "40       NaN\n",
       "41       NaN\n",
       "43       NaN\n",
       "47       NaN\n",
       "48       NaN\n",
       "49       NaN\n",
       "50       NaN\n",
       "51       NaN\n",
       "64       NaN\n",
       "65       NaN\n",
       "67       NaN\n",
       "        ... \n",
       "35494    NaN\n",
       "35496    NaN\n",
       "35498    NaN\n",
       "35499    NaN\n",
       "35503    NaN\n",
       "35504    NaN\n",
       "35506    NaN\n",
       "35507    NaN\n",
       "35509    NaN\n",
       "35514    NaN\n",
       "35515    NaN\n",
       "35516    NaN\n",
       "35521    NaN\n",
       "35522    NaN\n",
       "35523    NaN\n",
       "35525    NaN\n",
       "35526    NaN\n",
       "35528    NaN\n",
       "35529    NaN\n",
       "35530    NaN\n",
       "35531    NaN\n",
       "35532    NaN\n",
       "35535    NaN\n",
       "35536    NaN\n",
       "35537    NaN\n",
       "35539    NaN\n",
       "35540    NaN\n",
       "35541    NaN\n",
       "35542    NaN\n",
       "35546    NaN\n",
       "Name: taxa, Length: 15690, dtype: object"
      ]
     },
     "execution_count": 18,
     "metadata": {},
     "output_type": "execute_result"
    }
   ],
   "source": [
    "import pandas as pd\n",
    "species = pd.read_csv(r\"C:\\Users\\sony\\Downloads\\species.csv\")\n",
    "surveys = pd.read_csv(r\"C:\\Users\\sony\\Downloads\\surveys.csv\")\n",
    "\n",
    "ss = pd.concat([species, surveys], copy = False)\n",
    "ss.loc[:,:]\n",
    "\n",
    "'''sx = ss[ss.sex == 'F']\n",
    "sy = sx[sx.taxa == 'Rodent']\n",
    "sy.taxa.value_counts()'''\n",
    "\n",
    "ss[ss.sex == 'F'].taxa.value_counts()"
   ]
  },
  {
   "cell_type": "code",
   "execution_count": null,
   "metadata": {},
   "outputs": [],
   "source": []
  }
 ],
 "metadata": {
  "kernelspec": {
   "display_name": "Python 3",
   "language": "python",
   "name": "python3"
  },
  "language_info": {
   "codemirror_mode": {
    "name": "ipython",
    "version": 3
   },
   "file_extension": ".py",
   "mimetype": "text/x-python",
   "name": "python",
   "nbconvert_exporter": "python",
   "pygments_lexer": "ipython3",
   "version": "3.6.4"
  }
 },
 "nbformat": 4,
 "nbformat_minor": 2
}
